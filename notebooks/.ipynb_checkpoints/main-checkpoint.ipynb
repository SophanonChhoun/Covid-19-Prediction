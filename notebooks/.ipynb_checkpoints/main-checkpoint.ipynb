{
 "cells": [
  {
   "cell_type": "code",
   "execution_count": 2,
   "metadata": {},
   "outputs": [],
   "source": [
    "import pandas as pd\n",
    "import numpy as np\n",
    "import matplotlib.pyplot as plt\n",
    "import seaborn as sns\n",
    "\n",
    "from sklearn.preprocessing import LabelEncoder\n",
    "\n",
    "from sklearn.model_selection import train_test_split\n",
    "from sklearn.linear_model import LogisticRegression\n",
    "from sklearn.neural_network import MLPClassifier\n",
    "from sklearn import metrics\n",
    "\n",
    "import pickle"
   ]
  },
  {
   "cell_type": "code",
   "execution_count": 31,
   "metadata": {},
   "outputs": [
    {
     "data": {
      "text/html": [
       "<div>\n",
       "<style scoped>\n",
       "    .dataframe tbody tr th:only-of-type {\n",
       "        vertical-align: middle;\n",
       "    }\n",
       "\n",
       "    .dataframe tbody tr th {\n",
       "        vertical-align: top;\n",
       "    }\n",
       "\n",
       "    .dataframe thead th {\n",
       "        text-align: right;\n",
       "    }\n",
       "</style>\n",
       "<table border=\"1\" class=\"dataframe\">\n",
       "  <thead>\n",
       "    <tr style=\"text-align: right;\">\n",
       "      <th></th>\n",
       "      <th>Breathing Problem</th>\n",
       "      <th>Fever</th>\n",
       "      <th>Dry Cough</th>\n",
       "      <th>Sore throat</th>\n",
       "      <th>Running Nose</th>\n",
       "      <th>Asthma</th>\n",
       "      <th>Chronic Lung Disease</th>\n",
       "      <th>Headache</th>\n",
       "      <th>Heart Disease</th>\n",
       "      <th>Diabetes</th>\n",
       "      <th>...</th>\n",
       "      <th>Fatigue</th>\n",
       "      <th>Gastrointestinal</th>\n",
       "      <th>Abroad travel</th>\n",
       "      <th>Contact with COVID Patient</th>\n",
       "      <th>Attended Large Gathering</th>\n",
       "      <th>Visited Public Exposed Places</th>\n",
       "      <th>Family working in Public Exposed Places</th>\n",
       "      <th>Wearing Masks</th>\n",
       "      <th>Sanitization from Market</th>\n",
       "      <th>COVID-19</th>\n",
       "    </tr>\n",
       "  </thead>\n",
       "  <tbody>\n",
       "    <tr>\n",
       "      <th>0</th>\n",
       "      <td>Yes</td>\n",
       "      <td>Yes</td>\n",
       "      <td>Yes</td>\n",
       "      <td>Yes</td>\n",
       "      <td>Yes</td>\n",
       "      <td>No</td>\n",
       "      <td>No</td>\n",
       "      <td>No</td>\n",
       "      <td>No</td>\n",
       "      <td>Yes</td>\n",
       "      <td>...</td>\n",
       "      <td>Yes</td>\n",
       "      <td>Yes</td>\n",
       "      <td>No</td>\n",
       "      <td>Yes</td>\n",
       "      <td>No</td>\n",
       "      <td>Yes</td>\n",
       "      <td>Yes</td>\n",
       "      <td>No</td>\n",
       "      <td>No</td>\n",
       "      <td>Yes</td>\n",
       "    </tr>\n",
       "    <tr>\n",
       "      <th>1</th>\n",
       "      <td>Yes</td>\n",
       "      <td>Yes</td>\n",
       "      <td>Yes</td>\n",
       "      <td>Yes</td>\n",
       "      <td>No</td>\n",
       "      <td>Yes</td>\n",
       "      <td>Yes</td>\n",
       "      <td>Yes</td>\n",
       "      <td>No</td>\n",
       "      <td>No</td>\n",
       "      <td>...</td>\n",
       "      <td>Yes</td>\n",
       "      <td>No</td>\n",
       "      <td>No</td>\n",
       "      <td>No</td>\n",
       "      <td>Yes</td>\n",
       "      <td>Yes</td>\n",
       "      <td>No</td>\n",
       "      <td>No</td>\n",
       "      <td>No</td>\n",
       "      <td>Yes</td>\n",
       "    </tr>\n",
       "    <tr>\n",
       "      <th>2</th>\n",
       "      <td>Yes</td>\n",
       "      <td>Yes</td>\n",
       "      <td>Yes</td>\n",
       "      <td>Yes</td>\n",
       "      <td>Yes</td>\n",
       "      <td>Yes</td>\n",
       "      <td>Yes</td>\n",
       "      <td>Yes</td>\n",
       "      <td>No</td>\n",
       "      <td>Yes</td>\n",
       "      <td>...</td>\n",
       "      <td>Yes</td>\n",
       "      <td>Yes</td>\n",
       "      <td>Yes</td>\n",
       "      <td>No</td>\n",
       "      <td>No</td>\n",
       "      <td>No</td>\n",
       "      <td>No</td>\n",
       "      <td>No</td>\n",
       "      <td>No</td>\n",
       "      <td>Yes</td>\n",
       "    </tr>\n",
       "    <tr>\n",
       "      <th>3</th>\n",
       "      <td>Yes</td>\n",
       "      <td>Yes</td>\n",
       "      <td>Yes</td>\n",
       "      <td>No</td>\n",
       "      <td>No</td>\n",
       "      <td>Yes</td>\n",
       "      <td>No</td>\n",
       "      <td>No</td>\n",
       "      <td>Yes</td>\n",
       "      <td>Yes</td>\n",
       "      <td>...</td>\n",
       "      <td>No</td>\n",
       "      <td>No</td>\n",
       "      <td>Yes</td>\n",
       "      <td>No</td>\n",
       "      <td>Yes</td>\n",
       "      <td>Yes</td>\n",
       "      <td>No</td>\n",
       "      <td>No</td>\n",
       "      <td>No</td>\n",
       "      <td>Yes</td>\n",
       "    </tr>\n",
       "    <tr>\n",
       "      <th>4</th>\n",
       "      <td>Yes</td>\n",
       "      <td>Yes</td>\n",
       "      <td>Yes</td>\n",
       "      <td>Yes</td>\n",
       "      <td>Yes</td>\n",
       "      <td>No</td>\n",
       "      <td>Yes</td>\n",
       "      <td>Yes</td>\n",
       "      <td>Yes</td>\n",
       "      <td>Yes</td>\n",
       "      <td>...</td>\n",
       "      <td>No</td>\n",
       "      <td>Yes</td>\n",
       "      <td>No</td>\n",
       "      <td>Yes</td>\n",
       "      <td>No</td>\n",
       "      <td>Yes</td>\n",
       "      <td>No</td>\n",
       "      <td>No</td>\n",
       "      <td>No</td>\n",
       "      <td>Yes</td>\n",
       "    </tr>\n",
       "  </tbody>\n",
       "</table>\n",
       "<p>5 rows × 21 columns</p>\n",
       "</div>"
      ],
      "text/plain": [
       "  Breathing Problem Fever Dry Cough Sore throat Running Nose Asthma  \\\n",
       "0               Yes   Yes       Yes         Yes          Yes     No   \n",
       "1               Yes   Yes       Yes         Yes           No    Yes   \n",
       "2               Yes   Yes       Yes         Yes          Yes    Yes   \n",
       "3               Yes   Yes       Yes          No           No    Yes   \n",
       "4               Yes   Yes       Yes         Yes          Yes     No   \n",
       "\n",
       "  Chronic Lung Disease Headache Heart Disease Diabetes  ... Fatigue   \\\n",
       "0                   No       No            No      Yes  ...      Yes   \n",
       "1                  Yes      Yes            No       No  ...      Yes   \n",
       "2                  Yes      Yes            No      Yes  ...      Yes   \n",
       "3                   No       No           Yes      Yes  ...       No   \n",
       "4                  Yes      Yes           Yes      Yes  ...       No   \n",
       "\n",
       "  Gastrointestinal  Abroad travel Contact with COVID Patient  \\\n",
       "0               Yes            No                        Yes   \n",
       "1                No            No                         No   \n",
       "2               Yes           Yes                         No   \n",
       "3                No           Yes                         No   \n",
       "4               Yes            No                        Yes   \n",
       "\n",
       "  Attended Large Gathering Visited Public Exposed Places  \\\n",
       "0                       No                           Yes   \n",
       "1                      Yes                           Yes   \n",
       "2                       No                            No   \n",
       "3                      Yes                           Yes   \n",
       "4                       No                           Yes   \n",
       "\n",
       "  Family working in Public Exposed Places Wearing Masks  \\\n",
       "0                                     Yes            No   \n",
       "1                                      No            No   \n",
       "2                                      No            No   \n",
       "3                                      No            No   \n",
       "4                                      No            No   \n",
       "\n",
       "  Sanitization from Market COVID-19  \n",
       "0                       No      Yes  \n",
       "1                       No      Yes  \n",
       "2                       No      Yes  \n",
       "3                       No      Yes  \n",
       "4                       No      Yes  \n",
       "\n",
       "[5 rows x 21 columns]"
      ]
     },
     "execution_count": 31,
     "metadata": {},
     "output_type": "execute_result"
    }
   ],
   "source": [
    "df = pd.read_csv('../datasets/original/Dataset.csv')\n",
    "df.head()"
   ]
  },
  {
   "cell_type": "markdown",
   "metadata": {},
   "source": [
    "# Data Analysis"
   ]
  },
  {
   "cell_type": "code",
   "execution_count": 4,
   "metadata": {},
   "outputs": [
    {
     "data": {
      "text/html": [
       "<div>\n",
       "<style scoped>\n",
       "    .dataframe tbody tr th:only-of-type {\n",
       "        vertical-align: middle;\n",
       "    }\n",
       "\n",
       "    .dataframe tbody tr th {\n",
       "        vertical-align: top;\n",
       "    }\n",
       "\n",
       "    .dataframe thead th {\n",
       "        text-align: right;\n",
       "    }\n",
       "</style>\n",
       "<table border=\"1\" class=\"dataframe\">\n",
       "  <thead>\n",
       "    <tr style=\"text-align: right;\">\n",
       "      <th></th>\n",
       "      <th>Breathing Problem</th>\n",
       "      <th>Fever</th>\n",
       "      <th>Dry Cough</th>\n",
       "      <th>Sore throat</th>\n",
       "      <th>Running Nose</th>\n",
       "      <th>Asthma</th>\n",
       "      <th>Chronic Lung Disease</th>\n",
       "      <th>Headache</th>\n",
       "      <th>Heart Disease</th>\n",
       "      <th>Diabetes</th>\n",
       "      <th>...</th>\n",
       "      <th>Fatigue</th>\n",
       "      <th>Gastrointestinal</th>\n",
       "      <th>Abroad travel</th>\n",
       "      <th>Contact with COVID Patient</th>\n",
       "      <th>Attended Large Gathering</th>\n",
       "      <th>Visited Public Exposed Places</th>\n",
       "      <th>Family working in Public Exposed Places</th>\n",
       "      <th>Wearing Masks</th>\n",
       "      <th>Sanitization from Market</th>\n",
       "      <th>COVID-19</th>\n",
       "    </tr>\n",
       "  </thead>\n",
       "  <tbody>\n",
       "    <tr>\n",
       "      <th>count</th>\n",
       "      <td>5434</td>\n",
       "      <td>5434</td>\n",
       "      <td>5434</td>\n",
       "      <td>5434</td>\n",
       "      <td>5434</td>\n",
       "      <td>5434</td>\n",
       "      <td>5434</td>\n",
       "      <td>5434</td>\n",
       "      <td>5434</td>\n",
       "      <td>5434</td>\n",
       "      <td>...</td>\n",
       "      <td>5434</td>\n",
       "      <td>5434</td>\n",
       "      <td>5434</td>\n",
       "      <td>5434</td>\n",
       "      <td>5434</td>\n",
       "      <td>5434</td>\n",
       "      <td>5434</td>\n",
       "      <td>5434</td>\n",
       "      <td>5434</td>\n",
       "      <td>5434</td>\n",
       "    </tr>\n",
       "    <tr>\n",
       "      <th>unique</th>\n",
       "      <td>2</td>\n",
       "      <td>2</td>\n",
       "      <td>2</td>\n",
       "      <td>2</td>\n",
       "      <td>2</td>\n",
       "      <td>2</td>\n",
       "      <td>2</td>\n",
       "      <td>2</td>\n",
       "      <td>2</td>\n",
       "      <td>2</td>\n",
       "      <td>...</td>\n",
       "      <td>2</td>\n",
       "      <td>2</td>\n",
       "      <td>2</td>\n",
       "      <td>2</td>\n",
       "      <td>2</td>\n",
       "      <td>2</td>\n",
       "      <td>2</td>\n",
       "      <td>1</td>\n",
       "      <td>1</td>\n",
       "      <td>2</td>\n",
       "    </tr>\n",
       "    <tr>\n",
       "      <th>top</th>\n",
       "      <td>Yes</td>\n",
       "      <td>Yes</td>\n",
       "      <td>Yes</td>\n",
       "      <td>Yes</td>\n",
       "      <td>Yes</td>\n",
       "      <td>No</td>\n",
       "      <td>No</td>\n",
       "      <td>Yes</td>\n",
       "      <td>No</td>\n",
       "      <td>No</td>\n",
       "      <td>...</td>\n",
       "      <td>Yes</td>\n",
       "      <td>No</td>\n",
       "      <td>No</td>\n",
       "      <td>Yes</td>\n",
       "      <td>No</td>\n",
       "      <td>Yes</td>\n",
       "      <td>No</td>\n",
       "      <td>No</td>\n",
       "      <td>No</td>\n",
       "      <td>Yes</td>\n",
       "    </tr>\n",
       "    <tr>\n",
       "      <th>freq</th>\n",
       "      <td>3620</td>\n",
       "      <td>4273</td>\n",
       "      <td>4307</td>\n",
       "      <td>3953</td>\n",
       "      <td>2952</td>\n",
       "      <td>2920</td>\n",
       "      <td>2869</td>\n",
       "      <td>2736</td>\n",
       "      <td>2911</td>\n",
       "      <td>2846</td>\n",
       "      <td>...</td>\n",
       "      <td>2821</td>\n",
       "      <td>2883</td>\n",
       "      <td>2983</td>\n",
       "      <td>2726</td>\n",
       "      <td>2924</td>\n",
       "      <td>2820</td>\n",
       "      <td>3172</td>\n",
       "      <td>5434</td>\n",
       "      <td>5434</td>\n",
       "      <td>4383</td>\n",
       "    </tr>\n",
       "  </tbody>\n",
       "</table>\n",
       "<p>4 rows × 21 columns</p>\n",
       "</div>"
      ],
      "text/plain": [
       "       Breathing Problem Fever Dry Cough Sore throat Running Nose Asthma  \\\n",
       "count               5434  5434      5434        5434         5434   5434   \n",
       "unique                 2     2         2           2            2      2   \n",
       "top                  Yes   Yes       Yes         Yes          Yes     No   \n",
       "freq                3620  4273      4307        3953         2952   2920   \n",
       "\n",
       "       Chronic Lung Disease Headache Heart Disease Diabetes  ... Fatigue   \\\n",
       "count                  5434     5434          5434     5434  ...     5434   \n",
       "unique                    2        2             2        2  ...        2   \n",
       "top                      No      Yes            No       No  ...      Yes   \n",
       "freq                   2869     2736          2911     2846  ...     2821   \n",
       "\n",
       "       Gastrointestinal  Abroad travel Contact with COVID Patient  \\\n",
       "count               5434          5434                       5434   \n",
       "unique                 2             2                          2   \n",
       "top                   No            No                        Yes   \n",
       "freq                2883          2983                       2726   \n",
       "\n",
       "       Attended Large Gathering Visited Public Exposed Places  \\\n",
       "count                      5434                          5434   \n",
       "unique                        2                             2   \n",
       "top                          No                           Yes   \n",
       "freq                       2924                          2820   \n",
       "\n",
       "       Family working in Public Exposed Places Wearing Masks  \\\n",
       "count                                     5434          5434   \n",
       "unique                                       2             1   \n",
       "top                                         No            No   \n",
       "freq                                      3172          5434   \n",
       "\n",
       "       Sanitization from Market COVID-19  \n",
       "count                      5434     5434  \n",
       "unique                        1        2  \n",
       "top                          No      Yes  \n",
       "freq                       5434     4383  \n",
       "\n",
       "[4 rows x 21 columns]"
      ]
     },
     "execution_count": 4,
     "metadata": {},
     "output_type": "execute_result"
    }
   ],
   "source": [
    "df.describe()"
   ]
  },
  {
   "cell_type": "code",
   "execution_count": 5,
   "metadata": {},
   "outputs": [
    {
     "name": "stdout",
     "output_type": "stream",
     "text": [
      "<class 'pandas.core.frame.DataFrame'>\n",
      "RangeIndex: 5434 entries, 0 to 5433\n",
      "Data columns (total 21 columns):\n",
      " #   Column                                   Non-Null Count  Dtype \n",
      "---  ------                                   --------------  ----- \n",
      " 0   Breathing Problem                        5434 non-null   object\n",
      " 1   Fever                                    5434 non-null   object\n",
      " 2   Dry Cough                                5434 non-null   object\n",
      " 3   Sore throat                              5434 non-null   object\n",
      " 4   Running Nose                             5434 non-null   object\n",
      " 5   Asthma                                   5434 non-null   object\n",
      " 6   Chronic Lung Disease                     5434 non-null   object\n",
      " 7   Headache                                 5434 non-null   object\n",
      " 8   Heart Disease                            5434 non-null   object\n",
      " 9   Diabetes                                 5434 non-null   object\n",
      " 10  Hyper Tension                            5434 non-null   object\n",
      " 11  Fatigue                                  5434 non-null   object\n",
      " 12  Gastrointestinal                         5434 non-null   object\n",
      " 13  Abroad travel                            5434 non-null   object\n",
      " 14  Contact with COVID Patient               5434 non-null   object\n",
      " 15  Attended Large Gathering                 5434 non-null   object\n",
      " 16  Visited Public Exposed Places            5434 non-null   object\n",
      " 17  Family working in Public Exposed Places  5434 non-null   object\n",
      " 18  Wearing Masks                            5434 non-null   object\n",
      " 19  Sanitization from Market                 5434 non-null   object\n",
      " 20  COVID-19                                 5434 non-null   object\n",
      "dtypes: object(21)\n",
      "memory usage: 891.6+ KB\n"
     ]
    }
   ],
   "source": [
    "df.info()"
   ]
  },
  {
   "cell_type": "code",
   "execution_count": 6,
   "metadata": {},
   "outputs": [
    {
     "data": {
      "text/plain": [
       "Breathing Problem                          0\n",
       "Fever                                      0\n",
       "Dry Cough                                  0\n",
       "Sore throat                                0\n",
       "Running Nose                               0\n",
       "Asthma                                     0\n",
       "Chronic Lung Disease                       0\n",
       "Headache                                   0\n",
       "Heart Disease                              0\n",
       "Diabetes                                   0\n",
       "Hyper Tension                              0\n",
       "Fatigue                                    0\n",
       "Gastrointestinal                           0\n",
       "Abroad travel                              0\n",
       "Contact with COVID Patient                 0\n",
       "Attended Large Gathering                   0\n",
       "Visited Public Exposed Places              0\n",
       "Family working in Public Exposed Places    0\n",
       "Wearing Masks                              0\n",
       "Sanitization from Market                   0\n",
       "COVID-19                                   0\n",
       "dtype: int64"
      ]
     },
     "execution_count": 6,
     "metadata": {},
     "output_type": "execute_result"
    }
   ],
   "source": [
    "df.isna().sum()"
   ]
  },
  {
   "cell_type": "code",
   "execution_count": 7,
   "metadata": {},
   "outputs": [
    {
     "data": {
      "text/plain": [
       "Breathing Problem                          0\n",
       "Fever                                      0\n",
       "Dry Cough                                  0\n",
       "Sore throat                                0\n",
       "Running Nose                               0\n",
       "Asthma                                     0\n",
       "Chronic Lung Disease                       0\n",
       "Headache                                   0\n",
       "Heart Disease                              0\n",
       "Diabetes                                   0\n",
       "Hyper Tension                              0\n",
       "Fatigue                                    0\n",
       "Gastrointestinal                           0\n",
       "Abroad travel                              0\n",
       "Contact with COVID Patient                 0\n",
       "Attended Large Gathering                   0\n",
       "Visited Public Exposed Places              0\n",
       "Family working in Public Exposed Places    0\n",
       "Wearing Masks                              0\n",
       "Sanitization from Market                   0\n",
       "COVID-19                                   0\n",
       "dtype: int64"
      ]
     },
     "execution_count": 7,
     "metadata": {},
     "output_type": "execute_result"
    }
   ],
   "source": [
    "df.isnull().sum()"
   ]
  },
  {
   "cell_type": "code",
   "execution_count": 33,
   "metadata": {},
   "outputs": [
    {
     "data": {
      "text/plain": [
       "<AxesSubplot:xlabel='COVID-19', ylabel='count'>"
      ]
     },
     "execution_count": 33,
     "metadata": {},
     "output_type": "execute_result"
    },
    {
     "data": {
      "image/png": "[encoded data removed]",
      "text/plain": [
       "<Figure size 432x288 with 1 Axes>"
      ]
     },
     "metadata": {
      "needs_background": "light"
     },
     "output_type": "display_data"
    }
   ],
   "source": [
    "sns.countplot(x='COVID-19', data=df)\n"
   ]
  },
  {
   "cell_type": "code",
   "execution_count": 35,
   "metadata": {},
   "outputs": [
    {
     "data": {
      "text/plain": [
       "<AxesSubplot:ylabel='COVID-19'>"
      ]
     },
     "execution_count": 35,
     "metadata": {},
     "output_type": "execute_result"
    },
    {
     "data": {
      "image/png": "[encoded data removed]",
      "text/plain": [
       "<Figure size 432x288 with 1 Axes>"
      ]
     },
     "metadata": {},
     "output_type": "display_data"
    }
   ],
   "source": [
    "df['COVID-19'].value_counts().plot.pie(autopct='%.2f%%')"
   ]
  },
  {
   "cell_type": "code",
   "execution_count": 9,
   "metadata": {},
   "outputs": [
    {
     "data": {
      "text/plain": [
       "Index(['Breathing Problem', 'Fever', 'Dry Cough', 'Sore throat',\n",
       "       'Running Nose', 'Asthma', 'Chronic Lung Disease', 'Headache',\n",
       "       'Heart Disease', 'Diabetes', 'Hyper Tension', 'Fatigue ',\n",
       "       'Gastrointestinal ', 'Abroad travel', 'Contact with COVID Patient',\n",
       "       'Attended Large Gathering', 'Visited Public Exposed Places',\n",
       "       'Family working in Public Exposed Places', 'Wearing Masks',\n",
       "       'Sanitization from Market', 'COVID-19'],\n",
       "      dtype='object')"
      ]
     },
     "execution_count": 9,
     "metadata": {},
     "output_type": "execute_result"
    }
   ],
   "source": [
    "df.columns"
   ]
  },
  {
   "cell_type": "code",
   "execution_count": 10,
   "metadata": {},
   "outputs": [
    {
     "data": {
      "text/plain": [
       "<AxesSubplot:xlabel='Running Nose', ylabel='count'>"
      ]
     },
     "execution_count": 10,
     "metadata": {},
     "output_type": "execute_result"
    },
    {
     "data": {
      "image/png": "[encoded data removed]",
      "text/plain": [
       "<Figure size 432x288 with 1 Axes>"
      ]
     },
     "metadata": {
      "needs_background": "light"
     },
     "output_type": "display_data"
    }
   ],
   "source": [
    "sns.countplot(x='Running Nose', data=df, hue='COVID-19')\n"
   ]
  },
  {
   "cell_type": "code",
   "execution_count": 11,
   "metadata": {},
   "outputs": [
    {
     "data": {
      "text/plain": [
       "<AxesSubplot:xlabel='Sore throat', ylabel='count'>"
      ]
     },
     "execution_count": 11,
     "metadata": {},
     "output_type": "execute_result"
    },
    {
     "data": {
      "image/png": "[encoded data removed]",
      "text/plain": [
       "<Figure size 432x288 with 1 Axes>"
      ]
     },
     "metadata": {
      "needs_background": "light"
     },
     "output_type": "display_data"
    }
   ],
   "source": [
    "sns.countplot(x='Sore throat', data=df, hue='COVID-19')\n"
   ]
  },
  {
   "cell_type": "code",
   "execution_count": 12,
   "metadata": {},
   "outputs": [
    {
     "data": {
      "text/plain": [
       "<AxesSubplot:xlabel='Fever', ylabel='count'>"
      ]
     },
     "execution_count": 12,
     "metadata": {},
     "output_type": "execute_result"
    },
    {
     "data": {
      "image/png": "[encoded data removed]",
      "text/plain": [
       "<Figure size 432x288 with 1 Axes>"
      ]
     },
     "metadata": {
      "needs_background": "light"
     },
     "output_type": "display_data"
    }
   ],
   "source": [
    "sns.countplot(x='Fever', data=df, hue='COVID-19')\n"
   ]
  },
  {
   "cell_type": "code",
   "execution_count": 13,
   "metadata": {},
   "outputs": [
    {
     "data": {
      "text/plain": [
       "<AxesSubplot:xlabel='Dry Cough', ylabel='count'>"
      ]
     },
     "execution_count": 13,
     "metadata": {},
     "output_type": "execute_result"
    },
    {
     "data": {
      "image/png": "[encoded data removed]",
      "text/plain": [
       "<Figure size 432x288 with 1 Axes>"
      ]
     },
     "metadata": {
      "needs_background": "light"
     },
     "output_type": "display_data"
    }
   ],
   "source": [
    "sns.countplot(x='Dry Cough', data=df, hue='COVID-19')\n"
   ]
  },
  {
   "cell_type": "code",
   "execution_count": 14,
   "metadata": {},
   "outputs": [
    {
     "data": {
      "text/plain": [
       "<AxesSubplot:xlabel='Breathing Problem', ylabel='count'>"
      ]
     },
     "execution_count": 14,
     "metadata": {},
     "output_type": "execute_result"
    },
    {
     "data": {
      "image/png": "[encoded data removed]",
      "text/plain": [
       "<Figure size 432x288 with 1 Axes>"
      ]
     },
     "metadata": {
      "needs_background": "light"
     },
     "output_type": "display_data"
    }
   ],
   "source": [
    "sns.countplot(x='Breathing Problem', data=df, hue='COVID-19')"
   ]
  },
  {
   "cell_type": "code",
   "execution_count": 15,
   "metadata": {},
   "outputs": [
    {
     "data": {
      "text/html": [
       "<div>\n",
       "<style scoped>\n",
       "    .dataframe tbody tr th:only-of-type {\n",
       "        vertical-align: middle;\n",
       "    }\n",
       "\n",
       "    .dataframe tbody tr th {\n",
       "        vertical-align: top;\n",
       "    }\n",
       "\n",
       "    .dataframe thead th {\n",
       "        text-align: right;\n",
       "    }\n",
       "</style>\n",
       "<table border=\"1\" class=\"dataframe\">\n",
       "  <thead>\n",
       "    <tr style=\"text-align: right;\">\n",
       "      <th></th>\n",
       "      <th>Breathing Problem</th>\n",
       "      <th>Fever</th>\n",
       "      <th>Dry Cough</th>\n",
       "      <th>Sore throat</th>\n",
       "      <th>Running Nose</th>\n",
       "      <th>Asthma</th>\n",
       "      <th>Chronic Lung Disease</th>\n",
       "      <th>Headache</th>\n",
       "      <th>Heart Disease</th>\n",
       "      <th>Diabetes</th>\n",
       "      <th>...</th>\n",
       "      <th>Fatigue</th>\n",
       "      <th>Gastrointestinal</th>\n",
       "      <th>Abroad travel</th>\n",
       "      <th>Contact with COVID Patient</th>\n",
       "      <th>Attended Large Gathering</th>\n",
       "      <th>Visited Public Exposed Places</th>\n",
       "      <th>Family working in Public Exposed Places</th>\n",
       "      <th>Wearing Masks</th>\n",
       "      <th>Sanitization from Market</th>\n",
       "      <th>COVID-19</th>\n",
       "    </tr>\n",
       "  </thead>\n",
       "  <tbody>\n",
       "    <tr>\n",
       "      <th>0</th>\n",
       "      <td>Yes</td>\n",
       "      <td>Yes</td>\n",
       "      <td>Yes</td>\n",
       "      <td>Yes</td>\n",
       "      <td>Yes</td>\n",
       "      <td>No</td>\n",
       "      <td>No</td>\n",
       "      <td>No</td>\n",
       "      <td>No</td>\n",
       "      <td>Yes</td>\n",
       "      <td>...</td>\n",
       "      <td>Yes</td>\n",
       "      <td>Yes</td>\n",
       "      <td>No</td>\n",
       "      <td>Yes</td>\n",
       "      <td>No</td>\n",
       "      <td>Yes</td>\n",
       "      <td>Yes</td>\n",
       "      <td>No</td>\n",
       "      <td>No</td>\n",
       "      <td>Yes</td>\n",
       "    </tr>\n",
       "    <tr>\n",
       "      <th>1</th>\n",
       "      <td>Yes</td>\n",
       "      <td>Yes</td>\n",
       "      <td>Yes</td>\n",
       "      <td>Yes</td>\n",
       "      <td>No</td>\n",
       "      <td>Yes</td>\n",
       "      <td>Yes</td>\n",
       "      <td>Yes</td>\n",
       "      <td>No</td>\n",
       "      <td>No</td>\n",
       "      <td>...</td>\n",
       "      <td>Yes</td>\n",
       "      <td>No</td>\n",
       "      <td>No</td>\n",
       "      <td>No</td>\n",
       "      <td>Yes</td>\n",
       "      <td>Yes</td>\n",
       "      <td>No</td>\n",
       "      <td>No</td>\n",
       "      <td>No</td>\n",
       "      <td>Yes</td>\n",
       "    </tr>\n",
       "    <tr>\n",
       "      <th>2</th>\n",
       "      <td>Yes</td>\n",
       "      <td>Yes</td>\n",
       "      <td>Yes</td>\n",
       "      <td>Yes</td>\n",
       "      <td>Yes</td>\n",
       "      <td>Yes</td>\n",
       "      <td>Yes</td>\n",
       "      <td>Yes</td>\n",
       "      <td>No</td>\n",
       "      <td>Yes</td>\n",
       "      <td>...</td>\n",
       "      <td>Yes</td>\n",
       "      <td>Yes</td>\n",
       "      <td>Yes</td>\n",
       "      <td>No</td>\n",
       "      <td>No</td>\n",
       "      <td>No</td>\n",
       "      <td>No</td>\n",
       "      <td>No</td>\n",
       "      <td>No</td>\n",
       "      <td>Yes</td>\n",
       "    </tr>\n",
       "    <tr>\n",
       "      <th>3</th>\n",
       "      <td>Yes</td>\n",
       "      <td>Yes</td>\n",
       "      <td>Yes</td>\n",
       "      <td>No</td>\n",
       "      <td>No</td>\n",
       "      <td>Yes</td>\n",
       "      <td>No</td>\n",
       "      <td>No</td>\n",
       "      <td>Yes</td>\n",
       "      <td>Yes</td>\n",
       "      <td>...</td>\n",
       "      <td>No</td>\n",
       "      <td>No</td>\n",
       "      <td>Yes</td>\n",
       "      <td>No</td>\n",
       "      <td>Yes</td>\n",
       "      <td>Yes</td>\n",
       "      <td>No</td>\n",
       "      <td>No</td>\n",
       "      <td>No</td>\n",
       "      <td>Yes</td>\n",
       "    </tr>\n",
       "    <tr>\n",
       "      <th>4</th>\n",
       "      <td>Yes</td>\n",
       "      <td>Yes</td>\n",
       "      <td>Yes</td>\n",
       "      <td>Yes</td>\n",
       "      <td>Yes</td>\n",
       "      <td>No</td>\n",
       "      <td>Yes</td>\n",
       "      <td>Yes</td>\n",
       "      <td>Yes</td>\n",
       "      <td>Yes</td>\n",
       "      <td>...</td>\n",
       "      <td>No</td>\n",
       "      <td>Yes</td>\n",
       "      <td>No</td>\n",
       "      <td>Yes</td>\n",
       "      <td>No</td>\n",
       "      <td>Yes</td>\n",
       "      <td>No</td>\n",
       "      <td>No</td>\n",
       "      <td>No</td>\n",
       "      <td>Yes</td>\n",
       "    </tr>\n",
       "  </tbody>\n",
       "</table>\n",
       "<p>5 rows × 21 columns</p>\n",
       "</div>"
      ],
      "text/plain": [
       "  Breathing Problem Fever Dry Cough Sore throat Running Nose Asthma  \\\n",
       "0               Yes   Yes       Yes         Yes          Yes     No   \n",
       "1               Yes   Yes       Yes         Yes           No    Yes   \n",
       "2               Yes   Yes       Yes         Yes          Yes    Yes   \n",
       "3               Yes   Yes       Yes          No           No    Yes   \n",
       "4               Yes   Yes       Yes         Yes          Yes     No   \n",
       "\n",
       "  Chronic Lung Disease Headache Heart Disease Diabetes  ... Fatigue   \\\n",
       "0                   No       No            No      Yes  ...      Yes   \n",
       "1                  Yes      Yes            No       No  ...      Yes   \n",
       "2                  Yes      Yes            No      Yes  ...      Yes   \n",
       "3                   No       No           Yes      Yes  ...       No   \n",
       "4                  Yes      Yes           Yes      Yes  ...       No   \n",
       "\n",
       "  Gastrointestinal  Abroad travel Contact with COVID Patient  \\\n",
       "0               Yes            No                        Yes   \n",
       "1                No            No                         No   \n",
       "2               Yes           Yes                         No   \n",
       "3                No           Yes                         No   \n",
       "4               Yes            No                        Yes   \n",
       "\n",
       "  Attended Large Gathering Visited Public Exposed Places  \\\n",
       "0                       No                           Yes   \n",
       "1                      Yes                           Yes   \n",
       "2                       No                            No   \n",
       "3                      Yes                           Yes   \n",
       "4                       No                           Yes   \n",
       "\n",
       "  Family working in Public Exposed Places Wearing Masks  \\\n",
       "0                                     Yes            No   \n",
       "1                                      No            No   \n",
       "2                                      No            No   \n",
       "3                                      No            No   \n",
       "4                                      No            No   \n",
       "\n",
       "  Sanitization from Market COVID-19  \n",
       "0                       No      Yes  \n",
       "1                       No      Yes  \n",
       "2                       No      Yes  \n",
       "3                       No      Yes  \n",
       "4                       No      Yes  \n",
       "\n",
       "[5 rows x 21 columns]"
      ]
     },
     "execution_count": 15,
     "metadata": {},
     "output_type": "execute_result"
    }
   ],
   "source": [
    "df.head()"
   ]
  },
  {
   "cell_type": "code",
   "execution_count": 16,
   "metadata": {},
   "outputs": [],
   "source": [
    "e=LabelEncoder()\n",
    "\n",
    "df['Breathing Problem'] = e.fit_transform(df['Breathing Problem'])\n",
    "df['Fever'] = e.fit_transform(df['Fever'])\n",
    "df['Dry Cough'] = e.fit_transform(df['Dry Cough'])\n",
    "df['Sore throat'] = e.fit_transform(df['Sore throat'])\n",
    "df['Running Nose'] = e.fit_transform(df['Running Nose'])\n",
    "df['Asthma'] = e.fit_transform(df['Asthma'])\n",
    "df['Chronic Lung Disease'] = e.fit_transform(df['Chronic Lung Disease'])\n",
    "df['Headache'] = e.fit_transform(df['Headache'])\n",
    "df['Heart Disease'] = e.fit_transform(df['Heart Disease'])\n",
    "df['Diabetes'] = e.fit_transform(df['Diabetes'])\n",
    "df['Hyper Tension'] = e.fit_transform(df['Hyper Tension'])\n",
    "df['Abroad travel'] = e.fit_transform(df['Abroad travel'])\n",
    "df['Contact with COVID Patient'] = e.fit_transform(\n",
    "    df['Contact with COVID Patient'])\n",
    "df['Attended Large Gathering'] = e.fit_transform(\n",
    "    df['Attended Large Gathering'])\n",
    "df['Visited Public Exposed Places'] = e.fit_transform(\n",
    "    df['Visited Public Exposed Places'])\n",
    "df['Family working in Public Exposed Places'] = e.fit_transform(\n",
    "    df['Family working in Public Exposed Places'])\n",
    "df['Wearing Masks'] = e.fit_transform(df['Wearing Masks'])\n",
    "df['Sanitization from Market'] = e.fit_transform(\n",
    "    df['Sanitization from Market'])\n",
    "df['COVID-19'] = e.fit_transform(df['COVID-19'])\n",
    "df['Dry Cough'] = e.fit_transform(df['Dry Cough'])\n",
    "df['Sore throat'] = e.fit_transform(df['Sore throat'])\n",
    "df['Gastrointestinal '] = e.fit_transform(df['Gastrointestinal '])\n",
    "df['Fatigue '] = e.fit_transform(df['Fatigue '])\n"
   ]
  },
  {
   "cell_type": "code",
   "execution_count": 17,
   "metadata": {},
   "outputs": [
    {
     "data": {
      "text/html": [
       "<div>\n",
       "<style scoped>\n",
       "    .dataframe tbody tr th:only-of-type {\n",
       "        vertical-align: middle;\n",
       "    }\n",
       "\n",
       "    .dataframe tbody tr th {\n",
       "        vertical-align: top;\n",
       "    }\n",
       "\n",
       "    .dataframe thead th {\n",
       "        text-align: right;\n",
       "    }\n",
       "</style>\n",
       "<table border=\"1\" class=\"dataframe\">\n",
       "  <thead>\n",
       "    <tr style=\"text-align: right;\">\n",
       "      <th></th>\n",
       "      <th>Breathing Problem</th>\n",
       "      <th>Fever</th>\n",
       "      <th>Dry Cough</th>\n",
       "      <th>Sore throat</th>\n",
       "      <th>Running Nose</th>\n",
       "      <th>Asthma</th>\n",
       "      <th>Chronic Lung Disease</th>\n",
       "      <th>Headache</th>\n",
       "      <th>Heart Disease</th>\n",
       "      <th>Diabetes</th>\n",
       "      <th>...</th>\n",
       "      <th>Fatigue</th>\n",
       "      <th>Gastrointestinal</th>\n",
       "      <th>Abroad travel</th>\n",
       "      <th>Contact with COVID Patient</th>\n",
       "      <th>Attended Large Gathering</th>\n",
       "      <th>Visited Public Exposed Places</th>\n",
       "      <th>Family working in Public Exposed Places</th>\n",
       "      <th>Wearing Masks</th>\n",
       "      <th>Sanitization from Market</th>\n",
       "      <th>COVID-19</th>\n",
       "    </tr>\n",
       "  </thead>\n",
       "  <tbody>\n",
       "    <tr>\n",
       "      <th>0</th>\n",
       "      <td>1</td>\n",
       "      <td>1</td>\n",
       "      <td>1</td>\n",
       "      <td>1</td>\n",
       "      <td>1</td>\n",
       "      <td>0</td>\n",
       "      <td>0</td>\n",
       "      <td>0</td>\n",
       "      <td>0</td>\n",
       "      <td>1</td>\n",
       "      <td>...</td>\n",
       "      <td>1</td>\n",
       "      <td>1</td>\n",
       "      <td>0</td>\n",
       "      <td>1</td>\n",
       "      <td>0</td>\n",
       "      <td>1</td>\n",
       "      <td>1</td>\n",
       "      <td>0</td>\n",
       "      <td>0</td>\n",
       "      <td>1</td>\n",
       "    </tr>\n",
       "    <tr>\n",
       "      <th>1</th>\n",
       "      <td>1</td>\n",
       "      <td>1</td>\n",
       "      <td>1</td>\n",
       "      <td>1</td>\n",
       "      <td>0</td>\n",
       "      <td>1</td>\n",
       "      <td>1</td>\n",
       "      <td>1</td>\n",
       "      <td>0</td>\n",
       "      <td>0</td>\n",
       "      <td>...</td>\n",
       "      <td>1</td>\n",
       "      <td>0</td>\n",
       "      <td>0</td>\n",
       "      <td>0</td>\n",
       "      <td>1</td>\n",
       "      <td>1</td>\n",
       "      <td>0</td>\n",
       "      <td>0</td>\n",
       "      <td>0</td>\n",
       "      <td>1</td>\n",
       "    </tr>\n",
       "    <tr>\n",
       "      <th>2</th>\n",
       "      <td>1</td>\n",
       "      <td>1</td>\n",
       "      <td>1</td>\n",
       "      <td>1</td>\n",
       "      <td>1</td>\n",
       "      <td>1</td>\n",
       "      <td>1</td>\n",
       "      <td>1</td>\n",
       "      <td>0</td>\n",
       "      <td>1</td>\n",
       "      <td>...</td>\n",
       "      <td>1</td>\n",
       "      <td>1</td>\n",
       "      <td>1</td>\n",
       "      <td>0</td>\n",
       "      <td>0</td>\n",
       "      <td>0</td>\n",
       "      <td>0</td>\n",
       "      <td>0</td>\n",
       "      <td>0</td>\n",
       "      <td>1</td>\n",
       "    </tr>\n",
       "    <tr>\n",
       "      <th>3</th>\n",
       "      <td>1</td>\n",
       "      <td>1</td>\n",
       "      <td>1</td>\n",
       "      <td>0</td>\n",
       "      <td>0</td>\n",
       "      <td>1</td>\n",
       "      <td>0</td>\n",
       "      <td>0</td>\n",
       "      <td>1</td>\n",
       "      <td>1</td>\n",
       "      <td>...</td>\n",
       "      <td>0</td>\n",
       "      <td>0</td>\n",
       "      <td>1</td>\n",
       "      <td>0</td>\n",
       "      <td>1</td>\n",
       "      <td>1</td>\n",
       "      <td>0</td>\n",
       "      <td>0</td>\n",
       "      <td>0</td>\n",
       "      <td>1</td>\n",
       "    </tr>\n",
       "    <tr>\n",
       "      <th>4</th>\n",
       "      <td>1</td>\n",
       "      <td>1</td>\n",
       "      <td>1</td>\n",
       "      <td>1</td>\n",
       "      <td>1</td>\n",
       "      <td>0</td>\n",
       "      <td>1</td>\n",
       "      <td>1</td>\n",
       "      <td>1</td>\n",
       "      <td>1</td>\n",
       "      <td>...</td>\n",
       "      <td>0</td>\n",
       "      <td>1</td>\n",
       "      <td>0</td>\n",
       "      <td>1</td>\n",
       "      <td>0</td>\n",
       "      <td>1</td>\n",
       "      <td>0</td>\n",
       "      <td>0</td>\n",
       "      <td>0</td>\n",
       "      <td>1</td>\n",
       "    </tr>\n",
       "  </tbody>\n",
       "</table>\n",
       "<p>5 rows × 21 columns</p>\n",
       "</div>"
      ],
      "text/plain": [
       "   Breathing Problem  Fever  Dry Cough  Sore throat  Running Nose  Asthma  \\\n",
       "0                  1      1          1            1             1       0   \n",
       "1                  1      1          1            1             0       1   \n",
       "2                  1      1          1            1             1       1   \n",
       "3                  1      1          1            0             0       1   \n",
       "4                  1      1          1            1             1       0   \n",
       "\n",
       "   Chronic Lung Disease  Headache  Heart Disease  Diabetes  ...  Fatigue   \\\n",
       "0                     0         0              0         1  ...         1   \n",
       "1                     1         1              0         0  ...         1   \n",
       "2                     1         1              0         1  ...         1   \n",
       "3                     0         0              1         1  ...         0   \n",
       "4                     1         1              1         1  ...         0   \n",
       "\n",
       "   Gastrointestinal   Abroad travel  Contact with COVID Patient  \\\n",
       "0                  1              0                           1   \n",
       "1                  0              0                           0   \n",
       "2                  1              1                           0   \n",
       "3                  0              1                           0   \n",
       "4                  1              0                           1   \n",
       "\n",
       "   Attended Large Gathering  Visited Public Exposed Places  \\\n",
       "0                         0                              1   \n",
       "1                         1                              1   \n",
       "2                         0                              0   \n",
       "3                         1                              1   \n",
       "4                         0                              1   \n",
       "\n",
       "   Family working in Public Exposed Places  Wearing Masks  \\\n",
       "0                                        1              0   \n",
       "1                                        0              0   \n",
       "2                                        0              0   \n",
       "3                                        0              0   \n",
       "4                                        0              0   \n",
       "\n",
       "   Sanitization from Market  COVID-19  \n",
       "0                         0         1  \n",
       "1                         0         1  \n",
       "2                         0         1  \n",
       "3                         0         1  \n",
       "4                         0         1  \n",
       "\n",
       "[5 rows x 21 columns]"
      ]
     },
     "execution_count": 17,
     "metadata": {},
     "output_type": "execute_result"
    }
   ],
   "source": [
    "df.head()"
   ]
  },
  {
   "cell_type": "markdown",
   "metadata": {},
   "source": [
    "# Training"
   ]
  },
  {
   "cell_type": "code",
   "execution_count": 20,
   "metadata": {},
   "outputs": [],
   "source": [
    "X = df.drop(['COVID-19'], axis=1)\n",
    "y = df['COVID-19']\n",
    "\n",
    "X_train, X_test, y_train, y_test = train_test_split(X, y, test_size=0.2, random_state=42)"
   ]
  },
  {
   "cell_type": "code",
   "execution_count": 21,
   "metadata": {},
   "outputs": [
    {
     "data": {
      "text/html": [
       "<style>#sk-container-id-1 {color: black;background-color: white;}#sk-container-id-1 pre{padding: 0;}#sk-container-id-1 div.sk-toggleable {background-color: white;}#sk-container-id-1 label.sk-toggleable__label {cursor: pointer;display: block;width: 100%;margin-bottom: 0;padding: 0.3em;box-sizing: border-box;text-align: center;}#sk-container-id-1 label.sk-toggleable__label-arrow:before {content: \"▸\";float: left;margin-right: 0.25em;color: #696969;}#sk-container-id-1 label.sk-toggleable__label-arrow:hover:before {color: black;}#sk-container-id-1 div.sk-estimator:hover label.sk-toggleable__label-arrow:before {color: black;}#sk-container-id-1 div.sk-toggleable__content {max-height: 0;max-width: 0;overflow: hidden;text-align: left;background-color: #f0f8ff;}#sk-container-id-1 div.sk-toggleable__content pre {margin: 0.2em;color: black;border-radius: 0.25em;background-color: #f0f8ff;}#sk-container-id-1 input.sk-toggleable__control:checked~div.sk-toggleable__content {max-height: 200px;max-width: 100%;overflow: auto;}#sk-container-id-1 input.sk-toggleable__control:checked~label.sk-toggleable__label-arrow:before {content: \"▾\";}#sk-container-id-1 div.sk-estimator input.sk-toggleable__control:checked~label.sk-toggleable__label {background-color: #d4ebff;}#sk-container-id-1 div.sk-label input.sk-toggleable__control:checked~label.sk-toggleable__label {background-color: #d4ebff;}#sk-container-id-1 input.sk-hidden--visually {border: 0;clip: rect(1px 1px 1px 1px);clip: rect(1px, 1px, 1px, 1px);height: 1px;margin: -1px;overflow: hidden;padding: 0;position: absolute;width: 1px;}#sk-container-id-1 div.sk-estimator {font-family: monospace;background-color: #f0f8ff;border: 1px dotted black;border-radius: 0.25em;box-sizing: border-box;margin-bottom: 0.5em;}#sk-container-id-1 div.sk-estimator:hover {background-color: #d4ebff;}#sk-container-id-1 div.sk-parallel-item::after {content: \"\";width: 100%;border-bottom: 1px solid gray;flex-grow: 1;}#sk-container-id-1 div.sk-label:hover label.sk-toggleable__label {background-color: #d4ebff;}#sk-container-id-1 div.sk-serial::before {content: \"\";position: absolute;border-left: 1px solid gray;box-sizing: border-box;top: 0;bottom: 0;left: 50%;z-index: 0;}#sk-container-id-1 div.sk-serial {display: flex;flex-direction: column;align-items: center;background-color: white;padding-right: 0.2em;padding-left: 0.2em;position: relative;}#sk-container-id-1 div.sk-item {position: relative;z-index: 1;}#sk-container-id-1 div.sk-parallel {display: flex;align-items: stretch;justify-content: center;background-color: white;position: relative;}#sk-container-id-1 div.sk-item::before, #sk-container-id-1 div.sk-parallel-item::before {content: \"\";position: absolute;border-left: 1px solid gray;box-sizing: border-box;top: 0;bottom: 0;left: 50%;z-index: -1;}#sk-container-id-1 div.sk-parallel-item {display: flex;flex-direction: column;z-index: 1;position: relative;background-color: white;}#sk-container-id-1 div.sk-parallel-item:first-child::after {align-self: flex-end;width: 50%;}#sk-container-id-1 div.sk-parallel-item:last-child::after {align-self: flex-start;width: 50%;}#sk-container-id-1 div.sk-parallel-item:only-child::after {width: 0;}#sk-container-id-1 div.sk-dashed-wrapped {border: 1px dashed gray;margin: 0 0.4em 0.5em 0.4em;box-sizing: border-box;padding-bottom: 0.4em;background-color: white;}#sk-container-id-1 div.sk-label label {font-family: monospace;font-weight: bold;display: inline-block;line-height: 1.2em;}#sk-container-id-1 div.sk-label-container {text-align: center;}#sk-container-id-1 div.sk-container {/* jupyter's `normalize.less` sets `[hidden] { display: none; }` but bootstrap.min.css set `[hidden] { display: none !important; }` so we also need the `!important` here to be able to override the default hidden behavior on the sphinx rendered scikit-learn.org. See: https://github.com/scikit-learn/scikit-learn/issues/21755 */display: inline-block !important;position: relative;}#sk-container-id-1 div.sk-text-repr-fallback {display: none;}</style><div id=\"sk-container-id-1\" class=\"sk-top-container\"><div class=\"sk-text-repr-fallback\"><pre>MLPClassifier(hidden_layer_sizes=(100, 100), learning_rate_init=0.1,\n",
       "              max_iter=1000)</pre><b>In a Jupyter environment, please rerun this cell to show the HTML representation or trust the notebook. <br />On GitHub, the HTML representation is unable to render, please try loading this page with nbviewer.org.</b></div><div class=\"sk-container\" hidden><div class=\"sk-item\"><div class=\"sk-estimator sk-toggleable\"><input class=\"sk-toggleable__control sk-hidden--visually\" id=\"sk-estimator-id-1\" type=\"checkbox\" checked><label for=\"sk-estimator-id-1\" class=\"sk-toggleable__label sk-toggleable__label-arrow\">MLPClassifier</label><div class=\"sk-toggleable__content\"><pre>MLPClassifier(hidden_layer_sizes=(100, 100), learning_rate_init=0.1,\n",
       "              max_iter=1000)</pre></div></div></div></div></div>"
      ],
      "text/plain": [
       "MLPClassifier(hidden_layer_sizes=(100, 100), learning_rate_init=0.1,\n",
       "              max_iter=1000)"
      ]
     },
     "execution_count": 21,
     "metadata": {},
     "output_type": "execute_result"
    }
   ],
   "source": [
    "mlp_model = MLPClassifier(hidden_layer_sizes=(100, 100), activation='relu',\n",
    "                     solver='adam', learning_rate_init=0.1, max_iter=1000)\n",
    "mlp_model.fit(X_train, y_train)"
   ]
  },
  {
   "cell_type": "code",
   "execution_count": 22,
   "metadata": {},
   "outputs": [
    {
     "data": {
      "text/html": [
       "<style>#sk-container-id-2 {color: black;background-color: white;}#sk-container-id-2 pre{padding: 0;}#sk-container-id-2 div.sk-toggleable {background-color: white;}#sk-container-id-2 label.sk-toggleable__label {cursor: pointer;display: block;width: 100%;margin-bottom: 0;padding: 0.3em;box-sizing: border-box;text-align: center;}#sk-container-id-2 label.sk-toggleable__label-arrow:before {content: \"▸\";float: left;margin-right: 0.25em;color: #696969;}#sk-container-id-2 label.sk-toggleable__label-arrow:hover:before {color: black;}#sk-container-id-2 div.sk-estimator:hover label.sk-toggleable__label-arrow:before {color: black;}#sk-container-id-2 div.sk-toggleable__content {max-height: 0;max-width: 0;overflow: hidden;text-align: left;background-color: #f0f8ff;}#sk-container-id-2 div.sk-toggleable__content pre {margin: 0.2em;color: black;border-radius: 0.25em;background-color: #f0f8ff;}#sk-container-id-2 input.sk-toggleable__control:checked~div.sk-toggleable__content {max-height: 200px;max-width: 100%;overflow: auto;}#sk-container-id-2 input.sk-toggleable__control:checked~label.sk-toggleable__label-arrow:before {content: \"▾\";}#sk-container-id-2 div.sk-estimator input.sk-toggleable__control:checked~label.sk-toggleable__label {background-color: #d4ebff;}#sk-container-id-2 div.sk-label input.sk-toggleable__control:checked~label.sk-toggleable__label {background-color: #d4ebff;}#sk-container-id-2 input.sk-hidden--visually {border: 0;clip: rect(1px 1px 1px 1px);clip: rect(1px, 1px, 1px, 1px);height: 1px;margin: -1px;overflow: hidden;padding: 0;position: absolute;width: 1px;}#sk-container-id-2 div.sk-estimator {font-family: monospace;background-color: #f0f8ff;border: 1px dotted black;border-radius: 0.25em;box-sizing: border-box;margin-bottom: 0.5em;}#sk-container-id-2 div.sk-estimator:hover {background-color: #d4ebff;}#sk-container-id-2 div.sk-parallel-item::after {content: \"\";width: 100%;border-bottom: 1px solid gray;flex-grow: 1;}#sk-container-id-2 div.sk-label:hover label.sk-toggleable__label {background-color: #d4ebff;}#sk-container-id-2 div.sk-serial::before {content: \"\";position: absolute;border-left: 1px solid gray;box-sizing: border-box;top: 0;bottom: 0;left: 50%;z-index: 0;}#sk-container-id-2 div.sk-serial {display: flex;flex-direction: column;align-items: center;background-color: white;padding-right: 0.2em;padding-left: 0.2em;position: relative;}#sk-container-id-2 div.sk-item {position: relative;z-index: 1;}#sk-container-id-2 div.sk-parallel {display: flex;align-items: stretch;justify-content: center;background-color: white;position: relative;}#sk-container-id-2 div.sk-item::before, #sk-container-id-2 div.sk-parallel-item::before {content: \"\";position: absolute;border-left: 1px solid gray;box-sizing: border-box;top: 0;bottom: 0;left: 50%;z-index: -1;}#sk-container-id-2 div.sk-parallel-item {display: flex;flex-direction: column;z-index: 1;position: relative;background-color: white;}#sk-container-id-2 div.sk-parallel-item:first-child::after {align-self: flex-end;width: 50%;}#sk-container-id-2 div.sk-parallel-item:last-child::after {align-self: flex-start;width: 50%;}#sk-container-id-2 div.sk-parallel-item:only-child::after {width: 0;}#sk-container-id-2 div.sk-dashed-wrapped {border: 1px dashed gray;margin: 0 0.4em 0.5em 0.4em;box-sizing: border-box;padding-bottom: 0.4em;background-color: white;}#sk-container-id-2 div.sk-label label {font-family: monospace;font-weight: bold;display: inline-block;line-height: 1.2em;}#sk-container-id-2 div.sk-label-container {text-align: center;}#sk-container-id-2 div.sk-container {/* jupyter's `normalize.less` sets `[hidden] { display: none; }` but bootstrap.min.css set `[hidden] { display: none !important; }` so we also need the `!important` here to be able to override the default hidden behavior on the sphinx rendered scikit-learn.org. See: https://github.com/scikit-learn/scikit-learn/issues/21755 */display: inline-block !important;position: relative;}#sk-container-id-2 div.sk-text-repr-fallback {display: none;}</style><div id=\"sk-container-id-2\" class=\"sk-top-container\"><div class=\"sk-text-repr-fallback\"><pre>LogisticRegression()</pre><b>In a Jupyter environment, please rerun this cell to show the HTML representation or trust the notebook. <br />On GitHub, the HTML representation is unable to render, please try loading this page with nbviewer.org.</b></div><div class=\"sk-container\" hidden><div class=\"sk-item\"><div class=\"sk-estimator sk-toggleable\"><input class=\"sk-toggleable__control sk-hidden--visually\" id=\"sk-estimator-id-2\" type=\"checkbox\" checked><label for=\"sk-estimator-id-2\" class=\"sk-toggleable__label sk-toggleable__label-arrow\">LogisticRegression</label><div class=\"sk-toggleable__content\"><pre>LogisticRegression()</pre></div></div></div></div></div>"
      ],
      "text/plain": [
       "LogisticRegression()"
      ]
     },
     "execution_count": 22,
     "metadata": {},
     "output_type": "execute_result"
    }
   ],
   "source": [
    "model = LogisticRegression()\n",
    "model.fit(X_train, y_train)"
   ]
  },
  {
   "cell_type": "markdown",
   "metadata": {},
   "source": [
    "# Evaluation"
   ]
  },
  {
   "cell_type": "code",
   "execution_count": 23,
   "metadata": {},
   "outputs": [],
   "source": [
    "y_pred = model.predict(X_test)\n"
   ]
  },
  {
   "cell_type": "code",
   "execution_count": 24,
   "metadata": {},
   "outputs": [],
   "source": [
    "y_pred_mlp = mlp_model.predict(X_test)"
   ]
  },
  {
   "cell_type": "code",
   "execution_count": 25,
   "metadata": {},
   "outputs": [
    {
     "name": "stdout",
     "output_type": "stream",
     "text": [
      "Logistic Accuracy: 0.9724011039558418\n",
      "MLP Accuracy: 0.9705611775528978\n"
     ]
    }
   ],
   "source": [
    "print(\"Logistic Accuracy:\", metrics.accuracy_score(y_test, y_pred))\n",
    "print(\"MLP Accuracy:\", metrics.accuracy_score(y_test, y_pred_mlp))"
   ]
  },
  {
   "cell_type": "code",
   "execution_count": 26,
   "metadata": {},
   "outputs": [
    {
     "name": "stdout",
     "output_type": "stream",
     "text": [
      "Logistic Precision: 0.9755011135857461\n",
      "Logistic Recall: 0.9909502262443439\n",
      "Logistic F1-score: 0.9831649831649832\n",
      "MLP Precision: 1.0\n",
      "MLP Recall: 0.9638009049773756\n",
      "MLP F1-score: 0.9815668202764977\n"
     ]
    }
   ],
   "source": [
    "print(\"Logistic Precision:\", metrics.precision_score(y_test, y_pred))\n",
    "print(\"Logistic Recall:\", metrics.recall_score(y_test, y_pred))\n",
    "print(\"Logistic F1-score:\", metrics.f1_score(y_test, y_pred))\n",
    "print(\"MLP Precision:\", metrics.precision_score(y_test, y_pred_mlp))\n",
    "print(\"MLP Recall:\", metrics.recall_score(y_test, y_pred_mlp))\n",
    "print(\"MLP F1-score:\", metrics.f1_score(y_test, y_pred_mlp))"
   ]
  },
  {
   "cell_type": "code",
   "execution_count": 36,
   "metadata": {},
   "outputs": [
    {
     "name": "stdout",
     "output_type": "stream",
     "text": [
      "Logistic Accuracy: 0.9724011039558418\n",
      "Logistic Precision: 0.9755011135857461\n",
      "Logistic Recall: 0.9909502262443439\n",
      "Logistic F1-score: 0.9831649831649832\n"
     ]
    }
   ],
   "source": [
    "print(\"Logistic Accuracy:\", metrics.accuracy_score(y_test, y_pred))\n",
    "print(\"Logistic Precision:\", metrics.precision_score(y_test, y_pred))\n",
    "print(\"Logistic Recall:\", metrics.recall_score(y_test, y_pred))\n",
    "print(\"Logistic F1-score:\", metrics.f1_score(y_test, y_pred))"
   ]
  },
  {
   "cell_type": "code",
   "execution_count": null,
   "metadata": {},
   "outputs": [],
   "source": []
  },
  {
   "cell_type": "code",
   "execution_count": 27,
   "metadata": {},
   "outputs": [
    {
     "data": {
      "image/png": "[encoded data removed]",
      "text/plain": [
       "<Figure size 432x288 with 2 Axes>"
      ]
     },
     "metadata": {
      "needs_background": "light"
     },
     "output_type": "display_data"
    }
   ],
   "source": [
    "cm = metrics.confusion_matrix(y_test, y_pred, labels=model.classes_)\n",
    "group_names = ['True Neg', 'False Pos', 'False Neg', 'True Pos']\n",
    "\n",
    "group_counts = [\"{0:0.0f}\".format(value) for value in\n",
    "                cm.flatten()]\n",
    "\n",
    "group_percentages = [\"{0:.2%}\".format(value) for value in\n",
    "                     cm.flatten()/np.sum(cm)]\n",
    "\n",
    "labels = [f\"{v1}\\n{v2}\\n{v3}\" for v1, v2, v3 in\n",
    "          zip(group_names, group_counts, group_percentages)]\n",
    "\n",
    "labels = np.asarray(labels).reshape(2, 2)\n",
    "\n",
    "ax = sns.heatmap(cm, annot=labels, fmt='', cmap='Blues')\n",
    "\n",
    "ax.set_title('Seaborn Confusion Matrix with labels\\n\\n')\n",
    "ax.set_xlabel('\\nPredicted Values')\n",
    "ax.set_ylabel('Actual Values ')\n",
    "\n",
    "## Ticket labels - List must be in alphabetical order\n",
    "ax.xaxis.set_ticklabels(['False', 'True'])\n",
    "ax.yaxis.set_ticklabels(['False', 'True'])\n",
    "\n",
    "## Display the visualization of the Confusion Matrix.\n",
    "plt.show()\n"
   ]
  },
  {
   "cell_type": "code",
   "execution_count": 28,
   "metadata": {},
   "outputs": [
    {
     "data": {
      "image/png": "[encoded data removed]",
      "text/plain": [
       "<Figure size 432x288 with 2 Axes>"
      ]
     },
     "metadata": {
      "needs_background": "light"
     },
     "output_type": "display_data"
    }
   ],
   "source": [
    "cm = metrics.confusion_matrix(y_test, y_pred_mlp, labels=model.classes_)\n",
    "group_names = ['True Neg', 'False Pos', 'False Neg', 'True Pos']\n",
    "\n",
    "group_counts = [\"{0:0.0f}\".format(value) for value in\n",
    "                cm.flatten()]\n",
    "\n",
    "group_percentages = [\"{0:.2%}\".format(value) for value in\n",
    "                     cm.flatten()/np.sum(cm)]\n",
    "\n",
    "labels = [f\"{v1}\\n{v2}\\n{v3}\" for v1, v2, v3 in\n",
    "          zip(group_names, group_counts, group_percentages)]\n",
    "\n",
    "labels = np.asarray(labels).reshape(2, 2)\n",
    "\n",
    "ax = sns.heatmap(cm, annot=labels, fmt='', cmap='Blues')\n",
    "\n",
    "ax.set_title('Seaborn Confusion Matrix with labels\\n\\n')\n",
    "ax.set_xlabel('\\nPredicted Values')\n",
    "ax.set_ylabel('Actual Values ')\n",
    "\n",
    "## Ticket labels - List must be in alphabetical order\n",
    "ax.xaxis.set_ticklabels(['False', 'True'])\n",
    "ax.yaxis.set_ticklabels(['False', 'True'])\n",
    "\n",
    "## Display the visualization of the Confusion Matrix.\n",
    "plt.show()\n"
   ]
  },
  {
   "cell_type": "code",
   "execution_count": 29,
   "metadata": {},
   "outputs": [],
   "source": [
    "# pickle.dump(mlp_model, open('../models/model.pkl', 'wb'))\n"
   ]
  },
  {
   "cell_type": "code",
   "execution_count": 30,
   "metadata": {},
   "outputs": [
    {
     "data": {
      "text/plain": [
       "Index(['Breathing Problem', 'Fever', 'Dry Cough', 'Sore throat',\n",
       "       'Running Nose', 'Asthma', 'Chronic Lung Disease', 'Headache',\n",
       "       'Heart Disease', 'Diabetes', 'Hyper Tension', 'Fatigue ',\n",
       "       'Gastrointestinal ', 'Abroad travel', 'Contact with COVID Patient',\n",
       "       'Attended Large Gathering', 'Visited Public Exposed Places',\n",
       "       'Family working in Public Exposed Places', 'Wearing Masks',\n",
       "       'Sanitization from Market', 'COVID-19'],\n",
       "      dtype='object')"
      ]
     },
     "execution_count": 30,
     "metadata": {},
     "output_type": "execute_result"
    }
   ],
   "source": [
    "df.columns"
   ]
  },
  {
   "cell_type": "code",
   "execution_count": 37,
   "metadata": {},
   "outputs": [
    {
     "ename": "AttributeError",
     "evalue": "module 'pandas' has no attribute 'Dataframe'",
     "output_type": "error",
     "traceback": [
      "\u001b[0;31m---------------------------------------------------------------------------\u001b[0m",
      "\u001b[0;31mAttributeError\u001b[0m                            Traceback (most recent call last)",
      "Input \u001b[0;32mIn [37]\u001b[0m, in \u001b[0;36m<cell line: 1>\u001b[0;34m()\u001b[0m\n\u001b[0;32m----> 1\u001b[0m \u001b[43mpd\u001b[49m\u001b[38;5;241;43m.\u001b[39;49m\u001b[43mDataframe\u001b[49m(\u001b[38;5;28mlist\u001b[39m(\u001b[38;5;28mzip\u001b[39m(y_pred, y_test)),  columns\u001b[38;5;241m=\u001b[39m[\u001b[38;5;124m'\u001b[39m\u001b[38;5;124mPredicted Value\u001b[39m\u001b[38;5;124m'\u001b[39m, \u001b[38;5;124m'\u001b[39m\u001b[38;5;124mActual Value\u001b[39m\u001b[38;5;124m'\u001b[39m])\n",
      "File \u001b[0;32m~/opt/anaconda3/lib/python3.8/site-packages/pandas/__init__.py:244\u001b[0m, in \u001b[0;36m__getattr__\u001b[0;34m(name)\u001b[0m\n\u001b[1;32m    240\u001b[0m     \u001b[38;5;28;01mfrom\u001b[39;00m \u001b[38;5;21;01mpandas\u001b[39;00m\u001b[38;5;21;01m.\u001b[39;00m\u001b[38;5;21;01mcore\u001b[39;00m\u001b[38;5;21;01m.\u001b[39;00m\u001b[38;5;21;01marrays\u001b[39;00m\u001b[38;5;21;01m.\u001b[39;00m\u001b[38;5;21;01msparse\u001b[39;00m \u001b[38;5;28;01mimport\u001b[39;00m SparseArray \u001b[38;5;28;01mas\u001b[39;00m _SparseArray\n\u001b[1;32m    242\u001b[0m     \u001b[38;5;28;01mreturn\u001b[39;00m _SparseArray\n\u001b[0;32m--> 244\u001b[0m \u001b[38;5;28;01mraise\u001b[39;00m \u001b[38;5;167;01mAttributeError\u001b[39;00m(\u001b[38;5;124mf\u001b[39m\u001b[38;5;124m\"\u001b[39m\u001b[38;5;124mmodule \u001b[39m\u001b[38;5;124m'\u001b[39m\u001b[38;5;124mpandas\u001b[39m\u001b[38;5;124m'\u001b[39m\u001b[38;5;124m has no attribute \u001b[39m\u001b[38;5;124m'\u001b[39m\u001b[38;5;132;01m{\u001b[39;00mname\u001b[38;5;132;01m}\u001b[39;00m\u001b[38;5;124m'\u001b[39m\u001b[38;5;124m\"\u001b[39m)\n",
      "\u001b[0;31mAttributeError\u001b[0m: module 'pandas' has no attribute 'Dataframe'"
     ]
    }
   ],
   "source": [
    "pd.DataFrame(list(zip(y_pred, y_test)),  columns=['Predicted Value', 'Actual Value'])"
   ]
  }
 ],
 "metadata": {
  "kernelspec": {
   "display_name": "Python 3 (ipykernel)",
   "language": "python",
   "name": "python3"
  },
  "language_info": {
   "codemirror_mode": {
    "name": "ipython",
    "version": 3
   },
   "file_extension": ".py",
   "mimetype": "text/x-python",
   "name": "python",
   "nbconvert_exporter": "python",
   "pygments_lexer": "ipython3",
   "version": "3.8.5"
  },
  "vscode": {
   "interpreter": {
    "hash": "5ce4d8616aef6b9a242674db95ba29d7003c878aced4428beb2f1308555dd3bd"
   }
  }
 },
 "nbformat": 4,
 "nbformat_minor": 2
}
